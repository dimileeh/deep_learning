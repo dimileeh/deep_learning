{
 "cells": [
  {
   "cell_type": "markdown",
   "metadata": {
    "collapsed": true,
    "deletable": true,
    "editable": true
   },
   "source": [
    "# Image Classification\n",
    "In this project, you'll classify images from the [CIFAR-10 dataset](https://www.cs.toronto.edu/~kriz/cifar.html).  The dataset consists of airplanes, dogs, cats, and other objects. You'll preprocess the images, then train a convolutional neural network on all the samples. The images need to be normalized and the labels need to be one-hot encoded.  You'll get to apply what you learned and build a convolutional, max pooling, dropout, and fully connected layers.  At the end, you'll get to see your neural network's predictions on the sample images.\n",
    "## Get the Data\n",
    "Run the following cell to download the [CIFAR-10 dataset for python](https://www.cs.toronto.edu/~kriz/cifar-10-python.tar.gz)."
   ]
  },
  {
   "cell_type": "code",
   "execution_count": 1,
   "metadata": {
    "collapsed": false,
    "deletable": true,
    "editable": true
   },
   "outputs": [
    {
     "name": "stderr",
     "output_type": "stream",
     "text": [
      "CIFAR-10 Dataset: 171MB [00:59, 2.89MB/s]                              \n"
     ]
    },
    {
     "name": "stdout",
     "output_type": "stream",
     "text": [
      "All files found!\n"
     ]
    }
   ],
   "source": [
    "\"\"\"\n",
    "DON'T MODIFY ANYTHING IN THIS CELL THAT IS BELOW THIS LINE\n",
    "\"\"\"\n",
    "from urllib.request import urlretrieve\n",
    "from os.path import isfile, isdir\n",
    "from tqdm import tqdm\n",
    "import problem_unittests as tests\n",
    "import tarfile\n",
    "\n",
    "cifar10_dataset_folder_path = 'cifar-10-batches-py'\n",
    "\n",
    "class DLProgress(tqdm):\n",
    "    last_block = 0\n",
    "\n",
    "    def hook(self, block_num=1, block_size=1, total_size=None):\n",
    "        self.total = total_size\n",
    "        self.update((block_num - self.last_block) * block_size)\n",
    "        self.last_block = block_num\n",
    "\n",
    "if not isfile('cifar-10-python.tar.gz'):\n",
    "    with DLProgress(unit='B', unit_scale=True, miniters=1, desc='CIFAR-10 Dataset') as pbar:\n",
    "        urlretrieve(\n",
    "            'https://www.cs.toronto.edu/~kriz/cifar-10-python.tar.gz',\n",
    "            'cifar-10-python.tar.gz',\n",
    "            pbar.hook)\n",
    "\n",
    "if not isdir(cifar10_dataset_folder_path):\n",
    "    with tarfile.open('cifar-10-python.tar.gz') as tar:\n",
    "        tar.extractall()\n",
    "        tar.close()\n",
    "\n",
    "\n",
    "tests.test_folder_path(cifar10_dataset_folder_path)"
   ]
  },
  {
   "cell_type": "markdown",
   "metadata": {
    "deletable": true,
    "editable": true
   },
   "source": [
    "## Explore the Data\n",
    "The dataset is broken into batches to prevent your machine from running out of memory.  The CIFAR-10 dataset consists of 5 batches, named `data_batch_1`, `data_batch_2`, etc.. Each batch contains the labels and images that are one of the following:\n",
    "* airplane\n",
    "* automobile\n",
    "* bird\n",
    "* cat\n",
    "* deer\n",
    "* dog\n",
    "* frog\n",
    "* horse\n",
    "* ship\n",
    "* truck\n",
    "\n",
    "Understanding a dataset is part of making predictions on the data.  Play around with the code cell below by changing the `batch_id` and `sample_id`. The `batch_id` is the id for a batch (1-5). The `sample_id` is the id for a image and label pair in the batch.\n",
    "\n",
    "Ask yourself \"What are all possible labels?\", \"What is the range of values for the image data?\", \"Are the labels in order or random?\".  Answers to questions like these will help you preprocess the data and end up with better predictions."
   ]
  },
  {
   "cell_type": "code",
   "execution_count": 4,
   "metadata": {
    "collapsed": false,
    "deletable": true,
    "editable": true
   },
   "outputs": [
    {
     "name": "stdout",
     "output_type": "stream",
     "text": [
      "\n",
      "Stats of batch 2:\n",
      "Samples: 10000\n",
      "Label Counts: {0: 984, 1: 1007, 2: 1010, 3: 995, 4: 1010, 5: 988, 6: 1008, 7: 1026, 8: 987, 9: 985}\n",
      "First 20 Labels: [1, 6, 6, 8, 8, 3, 4, 6, 0, 6, 0, 3, 6, 6, 5, 4, 8, 3, 2, 6]\n",
      "\n",
      "Example of Image 10:\n",
      "Image - Min Value: 4 Max Value: 231\n",
      "Image - Shape: (32, 32, 3)\n",
      "Label - Label Id: 0 Name: airplane\n"
     ]
    },
    {
     "data": {
      "image/png": "[encoded data removed]",
      "text/plain": [
       "<matplotlib.figure.Figure at 0x7fada2141278>"
      ]
     },
     "metadata": {
      "image/png": {
       "height": 250,
       "width": 253
      }
     },
     "output_type": "display_data"
    }
   ],
   "source": [
    "%matplotlib inline\n",
    "%config InlineBackend.figure_format = 'retina'\n",
    "\n",
    "cifar10_dataset_folder_path = 'cifar-10-batches-py'\n",
    "import problem_unittests as tests\n",
    "\n",
    "import helper\n",
    "import numpy as np\n",
    "\n",
    "# Explore the dataset\n",
    "batch_id = 2\n",
    "sample_id = 10\n",
    "helper.display_stats(cifar10_dataset_folder_path, batch_id, sample_id)"
   ]
  },
  {
   "cell_type": "markdown",
   "metadata": {
    "deletable": true,
    "editable": true
   },
   "source": [
    "## Implement Preprocess Functions\n",
    "### Normalize\n",
    "In the cell below, implement the `normalize` function to take in image data, `x`, and return it as a normalized Numpy array. The values should be in the range of 0 to 1, inclusive.  The return object should be the same shape as `x`."
   ]
  },
  {
   "cell_type": "code",
   "execution_count": 22,
   "metadata": {
    "collapsed": false,
    "deletable": true,
    "editable": true
   },
   "outputs": [
    {
     "name": "stdout",
     "output_type": "stream",
     "text": [
      "Tests Passed\n"
     ]
    }
   ],
   "source": [
    "def normalize(x):\n",
    "    \"\"\"\n",
    "    Normalize a list of sample image data in the range of 0 to 1\n",
    "    : x: List of image data.  The image shape is (32, 32, 3)\n",
    "    : return: Numpy array of normalize data\n",
    "    \"\"\"\n",
    "    # TODO: Implement Function\n",
    "    x = (x - np.min(x)) / (np.max(x) - np.min(x))\n",
    "    return x\n",
    "\n",
    "\n",
    "\"\"\"\n",
    "DON'T MODIFY ANYTHING IN THIS CELL THAT IS BELOW THIS LINE\n",
    "\"\"\"\n",
    "tests.test_normalize(normalize)"
   ]
  },
  {
   "cell_type": "markdown",
   "metadata": {
    "deletable": true,
    "editable": true
   },
   "source": [
    "### One-hot encode\n",
    "Just like the previous code cell, you'll be implementing a function for preprocessing.  This time, you'll implement the `one_hot_encode` function. The input, `x`, are a list of labels.  Implement the function to return the list of labels as One-Hot encoded Numpy array.  The possible values for labels are 0 to 9. The one-hot encoding function should return the same encoding for each value between each call to `one_hot_encode`.  Make sure to save the map of encodings outside the function.\n",
    "\n",
    "Hint: Don't reinvent the wheel."
   ]
  },
  {
   "cell_type": "code",
   "execution_count": 112,
   "metadata": {
    "collapsed": false,
    "deletable": true,
    "editable": true
   },
   "outputs": [
    {
     "name": "stdout",
     "output_type": "stream",
     "text": [
      "Tests Passed\n"
     ]
    }
   ],
   "source": [
    "def one_hot_encode(x):\n",
    "    \"\"\"\n",
    "    One hot encode a list of sample labels. Return a one-hot encoded vector for each label.\n",
    "    : x: List of sample Labels\n",
    "    : return: Numpy array of one-hot encoded labels\n",
    "    \"\"\"\n",
    "    # TODO: Implement Function\n",
    "    x = np.array(x)\n",
    "    b = np.zeros((x.size, 10))\n",
    "    b[np.arange(x.size),x] = 1\n",
    "    return np.array(b)\n",
    "\n",
    "\"\"\"\n",
    "DON'T MODIFY ANYTHING IN THIS CELL THAT IS BELOW THIS LINE\n",
    "\"\"\"\n",
    "tests.test_one_hot_encode(one_hot_encode)"
   ]
  },
  {
   "cell_type": "markdown",
   "metadata": {
    "deletable": true,
    "editable": true
   },
   "source": [
    "### Randomize Data\n",
    "As you saw from exploring the data above, the order of the samples are randomized.  It doesn't hurt to randomize it again, but you don't need to for this dataset."
   ]
  },
  {
   "cell_type": "markdown",
   "metadata": {
    "deletable": true,
    "editable": true
   },
   "source": [
    "## Preprocess all the data and save it\n",
    "Running the code cell below will preprocess all the CIFAR-10 data and save it to file. The code below also uses 10% of the training data for validation."
   ]
  },
  {
   "cell_type": "code",
   "execution_count": 113,
   "metadata": {
    "collapsed": false,
    "deletable": true,
    "editable": true
   },
   "outputs": [],
   "source": [
    "\"\"\"\n",
    "DON'T MODIFY ANYTHING IN THIS CELL\n",
    "\"\"\"\n",
    "# Preprocess Training, Validation, and Testing Data\n",
    "helper.preprocess_and_save_data(cifar10_dataset_folder_path, normalize, one_hot_encode)"
   ]
  },
  {
   "cell_type": "markdown",
   "metadata": {
    "deletable": true,
    "editable": true
   },
   "source": [
    "# Check Point\n",
    "This is your first checkpoint.  If you ever decide to come back to this notebook or have to restart the notebook, you can start from here.  The preprocessed data has been saved to disk."
   ]
  },
  {
   "cell_type": "code",
   "execution_count": 1,
   "metadata": {
    "collapsed": true,
    "deletable": true,
    "editable": true
   },
   "outputs": [],
   "source": [
    "\"\"\"\n",
    "DON'T MODIFY ANYTHING IN THIS CELL\n",
    "\"\"\"\n",
    "import pickle\n",
    "import problem_unittests as tests\n",
    "import helper\n",
    "\n",
    "# Load the Preprocessed Validation data\n",
    "valid_features, valid_labels = pickle.load(open('preprocess_validation.p', mode='rb'))"
   ]
  },
  {
   "cell_type": "markdown",
   "metadata": {
    "deletable": true,
    "editable": true
   },
   "source": [
    "## Build the network\n",
    "For the neural network, you'll build each layer into a function.  Most of the code you've seen has been outside of functions. To test your code more thoroughly, we require that you put each layer in a function.  This allows us to give you better feedback and test for simple mistakes using our unittests before you submit your project.\n",
    "\n",
    "If you're finding it hard to dedicate enough time for this course a week, we've provided a small shortcut to this part of the project. In the next couple of problems, you'll have the option to use [TensorFlow Layers](https://www.tensorflow.org/api_docs/python/tf/layers) or [TensorFlow Layers (contrib)](https://www.tensorflow.org/api_guides/python/contrib.layers) to build each layer, except \"Convolutional & Max Pooling\" layer.  TF Layers is similar to Keras's and TFLearn's abstraction to layers, so it's easy to pickup.\n",
    "\n",
    "If you would like to get the most of this course, try to solve all the problems without TF Layers.  Let's begin!\n",
    "### Input\n",
    "The neural network needs to read the image data, one-hot encoded labels, and dropout keep probability. Implement the following functions\n",
    "* Implement `neural_net_image_input`\n",
    " * Return a [TF Placeholder](https://www.tensorflow.org/api_docs/python/tf/placeholder)\n",
    " * Set the shape using `image_shape` with batch size set to `None`.\n",
    " * Name the TensorFlow placeholder \"x\" using the TensorFlow `name` parameter in the [TF Placeholder](https://www.tensorflow.org/api_docs/python/tf/placeholder).\n",
    "* Implement `neural_net_label_input`\n",
    " * Return a [TF Placeholder](https://www.tensorflow.org/api_docs/python/tf/placeholder)\n",
    " * Set the shape using `n_classes` with batch size set to `None`.\n",
    " * Name the TensorFlow placeholder \"y\" using the TensorFlow `name` parameter in the [TF Placeholder](https://www.tensorflow.org/api_docs/python/tf/placeholder).\n",
    "* Implement `neural_net_keep_prob_input`\n",
    " * Return a [TF Placeholder](https://www.tensorflow.org/api_docs/python/tf/placeholder) for dropout keep probability.\n",
    " * Name the TensorFlow placeholder \"keep_prob\" using the TensorFlow `name` parameter in the [TF Placeholder](https://www.tensorflow.org/api_docs/python/tf/placeholder).\n",
    "\n",
    "These names will be used at the end of the project to load your saved model.\n",
    "\n",
    "Note: `None` for shapes in TensorFlow allow for a dynamic size."
   ]
  },
  {
   "cell_type": "code",
   "execution_count": 2,
   "metadata": {
    "collapsed": false,
    "deletable": true,
    "editable": true
   },
   "outputs": [
    {
     "name": "stdout",
     "output_type": "stream",
     "text": [
      "Image Input Tests Passed.\n",
      "Label Input Tests Passed.\n",
      "Keep Prob Tests Passed.\n"
     ]
    }
   ],
   "source": [
    "import tensorflow as tf\n",
    "\n",
    "def neural_net_image_input(image_shape):\n",
    "    \"\"\"\n",
    "    Return a Tensor for a bach of image input\n",
    "    : image_shape: Shape of the images\n",
    "    : return: Tensor for image input.\n",
    "    \"\"\"\n",
    "    # TODO: Implement Function\n",
    "    image_shape = list(image_shape)\n",
    "    image_shape.insert(0, None)\n",
    "    x = tf.placeholder(tf.float32, shape=image_shape, name=\"x\")\n",
    "    return x\n",
    "\n",
    "\n",
    "def neural_net_label_input(n_classes):\n",
    "    \"\"\"\n",
    "    Return a Tensor for a batch of label input\n",
    "    : n_classes: Number of classes\n",
    "    : return: Tensor for label input.\n",
    "    \"\"\"\n",
    "    # TODO: Implement Function\n",
    "    y = tf.placeholder(tf.int8, shape=[None, n_classes], name=\"y\")\n",
    "    return y\n",
    "\n",
    "\n",
    "def neural_net_keep_prob_input():\n",
    "    \"\"\"\n",
    "    Return a Tensor for keep probability\n",
    "    : return: Tensor for keep probability.\n",
    "    \"\"\"\n",
    "    keep_prob = tf.placeholder(tf.float32, None, name=\"keep_prob\")\n",
    "    return keep_prob\n",
    "\n",
    "\n",
    "\"\"\"\n",
    "DON'T MODIFY ANYTHING IN THIS CELL THAT IS BELOW THIS LINE\n",
    "\"\"\"\n",
    "tf.reset_default_graph()\n",
    "tests.test_nn_image_inputs(neural_net_image_input)\n",
    "tests.test_nn_label_inputs(neural_net_label_input)\n",
    "tests.test_nn_keep_prob_inputs(neural_net_keep_prob_input)"
   ]
  },
  {
   "cell_type": "markdown",
   "metadata": {
    "deletable": true,
    "editable": true
   },
   "source": [
    "### Convolution and Max Pooling Layer\n",
    "Convolution layers have a lot of success with images. For this code cell, you should implement the function `conv2d_maxpool` to apply convolution then max pooling:\n",
    "* Create the weight and bias using `conv_ksize`, `conv_num_outputs` and the shape of `x_tensor`.\n",
    "* Apply a convolution to `x_tensor` using weight and `conv_strides`.\n",
    " * We recommend you use same padding, but you're welcome to use any padding.\n",
    "* Add bias\n",
    "* Add a nonlinear activation to the convolution.\n",
    "* Apply Max Pooling using `pool_ksize` and `pool_strides`.\n",
    " * We recommend you use same padding, but you're welcome to use any padding.\n",
    "\n",
    "Note: You **can't** use [TensorFlow Layers](https://www.tensorflow.org/api_docs/python/tf/layers) or [TensorFlow Layers (contrib)](https://www.tensorflow.org/api_guides/python/contrib.layers) for this layer.  You're free to use any TensorFlow package for all the other layers."
   ]
  },
  {
   "cell_type": "code",
   "execution_count": 446,
   "metadata": {
    "collapsed": false,
    "deletable": true,
    "editable": true,
    "scrolled": true
   },
   "outputs": [
    {
     "name": "stdout",
     "output_type": "stream",
     "text": [
      "Tests Passed\n"
     ]
    }
   ],
   "source": [
    "def conv2d_maxpool(x_tensor, conv_num_outputs, conv_ksize, conv_strides, pool_ksize, pool_strides):\n",
    "    \"\"\"\n",
    "    Apply convolution then max pooling to x_tensor\n",
    "    :param x_tensor: TensorFlow Tensor\n",
    "    :param conv_num_outputs: Number of outputs for the convolutional layer\n",
    "    :param conv_ksize: kernal size 2-D Tuple for the convolutional layer\n",
    "    :param conv_strides: Stride 2-D Tuple for convolution\n",
    "    :param pool_ksize: kernal size 2-D Tuple for pool\n",
    "    :param pool_strides: Stride 2-D Tuple for pool\n",
    "    : return: A tensor that represents convolution and max pooling of x_tensor\n",
    "    \"\"\"\n",
    "    # TODO: Implement Function\n",
    "    batch_size, height, width, depth = x_tensor.get_shape().as_list()\n",
    "    \n",
    "    weights = tf.Variable(tf.truncated_normal([conv_ksize[0], conv_ksize[1], depth, conv_num_outputs], \\\n",
    "                                              stddev=0.05))\n",
    "    bias = tf.Variable(tf.zeros([conv_num_outputs]))\n",
    "    \n",
    "    strides=[1, conv_strides[0], conv_strides[1], 1]\n",
    "    padding='SAME'\n",
    "    \n",
    "    conv = tf.nn.conv2d(x_tensor, weights, strides, padding)\n",
    "    conv = tf.nn.bias_add(conv, bias)\n",
    "    conv = tf.nn.relu(conv)\n",
    "    \n",
    "    pool_strides = [1, pool_strides[0], pool_strides[1], 1]\n",
    "    pool_ksize = [1, pool_ksize[0], pool_ksize[1], 1]\n",
    "    pool_padding='SAME'\n",
    "    conv = tf.nn.max_pool(conv, pool_ksize, pool_strides, pool_padding)\n",
    "    return conv\n",
    "\n",
    "\n",
    "\"\"\"\n",
    "DON'T MODIFY ANYTHING IN THIS CELL THAT IS BELOW THIS LINE\n",
    "\"\"\"\n",
    "tests.test_con_pool(conv2d_maxpool)"
   ]
  },
  {
   "cell_type": "markdown",
   "metadata": {
    "deletable": true,
    "editable": true
   },
   "source": [
    "### Flatten Layer\n",
    "Implement the `flatten` function to change the dimension of `x_tensor` from a 4-D tensor to a 2-D tensor.  The output should be the shape (*Batch Size*, *Flattened Image Size*). You can use [TensorFlow Layers](https://www.tensorflow.org/api_docs/python/tf/layers) or [TensorFlow Layers (contrib)](https://www.tensorflow.org/api_guides/python/contrib.layers) for this layer."
   ]
  },
  {
   "cell_type": "code",
   "execution_count": 447,
   "metadata": {
    "collapsed": false,
    "deletable": true,
    "editable": true,
    "scrolled": true
   },
   "outputs": [
    {
     "name": "stdout",
     "output_type": "stream",
     "text": [
      "Tests Passed\n"
     ]
    }
   ],
   "source": [
    "def flatten(x_tensor):\n",
    "    \"\"\"\n",
    "    Flatten x_tensor to (Batch Size, Flattened Image Size)\n",
    "    : x_tensor: A tensor of size (Batch Size, ...), where ... are the image dimensions.\n",
    "    : return: A tensor of size (Batch Size, Flattened Image Size).\n",
    "    \"\"\"\n",
    "    # TODO: Implement Function\n",
    "    new_dim = 1\n",
    "    for d in x_tensor.get_shape().as_list()[1:]:\n",
    "        new_dim *= d\n",
    "    x_tensor = tf.reshape(x_tensor, [-1, new_dim])\n",
    "    \n",
    "    return x_tensor\n",
    "\n",
    "\n",
    "\"\"\"\n",
    "DON'T MODIFY ANYTHING IN THIS CELL THAT IS BELOW THIS LINE\n",
    "\"\"\"\n",
    "tests.test_flatten(flatten)"
   ]
  },
  {
   "cell_type": "markdown",
   "metadata": {
    "deletable": true,
    "editable": true
   },
   "source": [
    "### Fully-Connected Layer\n",
    "Implement the `fully_conn` function to apply a fully connected layer to `x_tensor` with the shape (*Batch Size*, *num_outputs*). You can use [TensorFlow Layers](https://www.tensorflow.org/api_docs/python/tf/layers) or [TensorFlow Layers (contrib)](https://www.tensorflow.org/api_guides/python/contrib.layers) for this layer."
   ]
  },
  {
   "cell_type": "code",
   "execution_count": 448,
   "metadata": {
    "collapsed": false,
    "deletable": true,
    "editable": true
   },
   "outputs": [
    {
     "name": "stdout",
     "output_type": "stream",
     "text": [
      "Tests Passed\n"
     ]
    }
   ],
   "source": [
    "def fully_conn(x_tensor, num_outputs):\n",
    "    \"\"\"\n",
    "    Apply a fully connected layer to x_tensor using weight and bias\n",
    "    : x_tensor: A 2-D tensor where the first dimension is batch size.\n",
    "    : num_outputs: The number of output that the new tensor should be.\n",
    "    : return: A 2-D tensor where the second dimension is num_outputs.\n",
    "    \"\"\"\n",
    "    # TODO: Implement Function\n",
    "    datasize = x_tensor.get_shape().as_list()[1]\n",
    "    weights = tf.Variable(tf.truncated_normal([datasize, num_outputs]))\n",
    "    bias = tf.Variable(tf.zeros(num_outputs))\n",
    "    out = tf.add(tf.matmul(x_tensor, weights), bias)\n",
    "    return tf.nn.relu(out)\n",
    "\n",
    "\n",
    "\"\"\"\n",
    "DON'T MODIFY ANYTHING IN THIS CELL THAT IS BELOW THIS LINE\n",
    "\"\"\"\n",
    "tests.test_fully_conn(fully_conn)"
   ]
  },
  {
   "cell_type": "markdown",
   "metadata": {
    "deletable": true,
    "editable": true
   },
   "source": [
    "### Output Layer\n",
    "Implement the `output` function to apply a fully connected layer to `x_tensor` with the shape (*Batch Size*, *num_outputs*). You can use [TensorFlow Layers](https://www.tensorflow.org/api_docs/python/tf/layers) or [TensorFlow Layers (contrib)](https://www.tensorflow.org/api_guides/python/contrib.layers) for this layer.\n",
    "\n",
    "Note: Activation, softmax, or cross entropy shouldn't be applied to this."
   ]
  },
  {
   "cell_type": "code",
   "execution_count": 449,
   "metadata": {
    "collapsed": false,
    "deletable": true,
    "editable": true
   },
   "outputs": [
    {
     "name": "stdout",
     "output_type": "stream",
     "text": [
      "Tests Passed\n"
     ]
    }
   ],
   "source": [
    "def output(x_tensor, num_outputs):\n",
    "    \"\"\"\n",
    "    Apply a output layer to x_tensor using weight and bias\n",
    "    : x_tensor: A 2-D tensor where the first dimension is batch size.\n",
    "    : num_outputs: The number of output that the new tensor should be.\n",
    "    : return: A 2-D tensor where the second dimension is num_outputs.\n",
    "    \"\"\"\n",
    "    # TODO: Implement Function\n",
    "    datasize = x_tensor.get_shape().as_list()[1]\n",
    "    weights = tf.Variable(tf.truncated_normal([datasize, num_outputs]))\n",
    "    bias = tf.Variable(tf.zeros(num_outputs))\n",
    "    out = tf.add(tf.matmul(x_tensor, weights), bias)\n",
    "    return out\n",
    "\n",
    "\n",
    "\"\"\"\n",
    "DON'T MODIFY ANYTHING IN THIS CELL THAT IS BELOW THIS LINE\n",
    "\"\"\"\n",
    "tests.test_output(output)"
   ]
  },
  {
   "cell_type": "markdown",
   "metadata": {
    "deletable": true,
    "editable": true
   },
   "source": [
    "### Create Convolutional Model\n",
    "Implement the function `conv_net` to create a convolutional neural network model. The function takes in a batch of images, `x`, and outputs logits.  Use the layers you created above to create this model:\n",
    "\n",
    "* Apply 1, 2, or 3 Convolution and Max Pool layers\n",
    "* Apply a Flatten Layer\n",
    "* Apply 1, 2, or 3 Fully Connected Layers\n",
    "* Apply an Output Layer\n",
    "* Return the output\n",
    "* Apply [TensorFlow's Dropout](https://www.tensorflow.org/api_docs/python/tf/nn/dropout) to one or more layers in the model using `keep_prob`. "
   ]
  },
  {
   "cell_type": "code",
   "execution_count": 597,
   "metadata": {
    "collapsed": false,
    "deletable": true,
    "editable": true
   },
   "outputs": [
    {
     "name": "stdout",
     "output_type": "stream",
     "text": [
      "Neural Network Built!\n"
     ]
    }
   ],
   "source": [
    "def conv_net(x, keep_prob):\n",
    "    \"\"\"\n",
    "    Create a convolutional neural network model\n",
    "    : x: Placeholder tensor that holds image data.\n",
    "    : keep_prob: Placeholder tensor that hold dropout keep probability.\n",
    "    : return: Tensor that represents logits\n",
    "    \"\"\"\n",
    "    # TODO: Apply 1, 2, or 3 Convolution and Max Pool layers\n",
    "    #    Play around with different number of outputs, kernel size and stride\n",
    "    # Function Definition from Above:\n",
    "    #    conv2d_maxpool(x_tensor, conv_num_outputs, conv_ksize, conv_strides, pool_ksize, pool_strides)\n",
    "    conv_num_outputs = 75\n",
    "    conv_ksize = (5, 5)\n",
    "    conv_strides = (2, 2)\n",
    "    pool_ksize = (2, 2)\n",
    "    pool_strides = (2, 2)\n",
    "    \n",
    "    logits = conv2d_maxpool(x, conv_num_outputs, conv_ksize, conv_strides, pool_ksize, pool_strides)\n",
    "    logits = tf.nn.dropout(logits, keep_prob)\n",
    "    for i in range(6):\n",
    "        logits = conv2d_maxpool(logits, conv_num_outputs, conv_ksize, conv_strides, pool_ksize, pool_strides)\n",
    "        \n",
    "    \n",
    "\n",
    "    # TODO: Apply a Flatten Layer\n",
    "    # Function Definition from Above:\n",
    "    #   flatten(x_tensor)\n",
    "    logits = flatten(logits)\n",
    "    #logits = tf.nn.dropout(logits, keep_prob)\n",
    "    \n",
    "\n",
    "    # TODO: Apply 1, 2, or 3 Fully Connected Layers\n",
    "    #    Play around with different number of outputs\n",
    "    # Function Definition from Above:\n",
    "    #   fully_conn(x_tensor, num_outputs)\n",
    "    num_outputs = 60\n",
    "    for i in range(2):\n",
    "        logits = fully_conn(logits, num_outputs)\n",
    "        #logits = tf.nn.dropout(logits, keep_prob)\n",
    "    \n",
    "    \n",
    "    # TODO: Apply an Output Layer\n",
    "    #    Set this to the number of classes\n",
    "    # Function Definition from Above:\n",
    "    #   output(x_tensor, num_outputs)\n",
    "    outputs = 10\n",
    "    logits = output(logits, outputs)\n",
    "    \n",
    "    \n",
    "    # TODO: return output\n",
    "    return logits\n",
    "\n",
    "\n",
    "\"\"\"\n",
    "DON'T MODIFY ANYTHING IN THIS CELL THAT IS BELOW THIS LINE\n",
    "\"\"\"\n",
    "\n",
    "##############################\n",
    "## Build the Neural Network ##\n",
    "##############################\n",
    "\n",
    "# Remove previous weights, bias, inputs, etc..\n",
    "tf.reset_default_graph()\n",
    "\n",
    "# Inputs\n",
    "x = neural_net_image_input((32, 32, 3))\n",
    "y = neural_net_label_input(10)\n",
    "keep_prob = neural_net_keep_prob_input()\n",
    "\n",
    "# Model\n",
    "logits = conv_net(x, keep_prob)\n",
    "\n",
    "# Name logits Tensor, so that is can be loaded from disk after training\n",
    "logits = tf.identity(logits, name='logits')\n",
    "\n",
    "# Loss and Optimizer\n",
    "cost = tf.reduce_mean(tf.nn.softmax_cross_entropy_with_logits(logits=logits, labels=y))\n",
    "optimizer = tf.train.AdamOptimizer().minimize(cost)\n",
    "\n",
    "# Accuracy\n",
    "correct_pred = tf.equal(tf.argmax(logits, 1), tf.argmax(y, 1))\n",
    "accuracy = tf.reduce_mean(tf.cast(correct_pred, tf.float32), name='accuracy')\n",
    "\n",
    "tests.test_conv_net(conv_net)"
   ]
  },
  {
   "cell_type": "markdown",
   "metadata": {
    "deletable": true,
    "editable": true
   },
   "source": [
    "## Train the Neural Network\n",
    "### Single Optimization\n",
    "Implement the function `train_neural_network` to do a single optimization.  The optimization should use `optimizer` to optimize in `session` with a `feed_dict` of the following:\n",
    "* `x` for image input\n",
    "* `y` for labels\n",
    "* `keep_prob` for keep probability for dropout\n",
    "\n",
    "This function will be called for each batch, so `tf.global_variables_initializer()` has already been called.\n",
    "\n",
    "Note: Nothing needs to be returned. This function is only optimizing the neural network."
   ]
  },
  {
   "cell_type": "code",
   "execution_count": 598,
   "metadata": {
    "collapsed": false,
    "deletable": true,
    "editable": true
   },
   "outputs": [
    {
     "name": "stdout",
     "output_type": "stream",
     "text": [
      "Tests Passed\n"
     ]
    }
   ],
   "source": [
    "def train_neural_network(session, optimizer, keep_probability, feature_batch, label_batch):\n",
    "    \"\"\"\n",
    "    Optimize the session on a batch of images and labels\n",
    "    : session: Current TensorFlow session\n",
    "    : optimizer: TensorFlow optimizer function\n",
    "    : keep_probability: keep probability\n",
    "    : feature_batch: Batch of Numpy image data\n",
    "    : label_batch: Batch of Numpy label data\n",
    "    \"\"\"\n",
    "    # TODO: Implement Function\n",
    "    session.run(optimizer, feed_dict={x: feature_batch, y: label_batch, keep_prob: keep_probability})\n",
    "\n",
    "\n",
    "\"\"\"\n",
    "DON'T MODIFY ANYTHING IN THIS CELL THAT IS BELOW THIS LINE\n",
    "\"\"\"\n",
    "tests.test_train_nn(train_neural_network)"
   ]
  },
  {
   "cell_type": "markdown",
   "metadata": {
    "deletable": true,
    "editable": true
   },
   "source": [
    "### Show Stats\n",
    "Implement the function `print_stats` to print loss and validation accuracy.  Use the global variables `valid_features` and `valid_labels` to calculate validation accuracy.  Use a keep probability of `1.0` to calculate the loss and validation accuracy."
   ]
  },
  {
   "cell_type": "code",
   "execution_count": 599,
   "metadata": {
    "collapsed": false,
    "deletable": true,
    "editable": true
   },
   "outputs": [],
   "source": [
    "def print_stats(session, feature_batch, label_batch, cost, accuracy):\n",
    "    \"\"\"\n",
    "    Print information about loss and validation accuracy\n",
    "    : session: Current TensorFlow session\n",
    "    : feature_batch: Batch of Numpy image data\n",
    "    : label_batch: Batch of Numpy label data\n",
    "    : cost: TensorFlow cost function\n",
    "    : accuracy: TensorFlow accuracy function\n",
    "    \"\"\"\n",
    "    # TODO: Implement Function\n",
    "    print (session.run([cost, accuracy], feed_dict={x: valid_features, y: valid_labels, keep_prob: 1.0}))"
   ]
  },
  {
   "cell_type": "markdown",
   "metadata": {
    "deletable": true,
    "editable": true
   },
   "source": [
    "### Hyperparameters\n",
    "Tune the following parameters:\n",
    "* Set `epochs` to the number of iterations until the network stops learning or start overfitting\n",
    "* Set `batch_size` to the highest number that your machine has memory for.  Most people set them to common sizes of memory:\n",
    " * 64\n",
    " * 128\n",
    " * 256\n",
    " * ...\n",
    "* Set `keep_probability` to the probability of keeping a node using dropout"
   ]
  },
  {
   "cell_type": "code",
   "execution_count": 606,
   "metadata": {
    "collapsed": true,
    "deletable": true,
    "editable": true
   },
   "outputs": [],
   "source": [
    "# TODO: Tune Parameters\n",
    "epochs = 70\n",
    "batch_size = 1024\n",
    "keep_probability = 0.6"
   ]
  },
  {
   "cell_type": "markdown",
   "metadata": {
    "deletable": true,
    "editable": true
   },
   "source": [
    "### Train on a Single CIFAR-10 Batch\n",
    "Instead of training the neural network on all the CIFAR-10 batches of data, let's use a single batch. This should save time while you iterate on the model to get a better accuracy.  Once the final validation accuracy is 50% or greater, run the model on all the data in the next section."
   ]
  },
  {
   "cell_type": "code",
   "execution_count": 609,
   "metadata": {
    "collapsed": false,
    "deletable": true,
    "editable": true,
    "scrolled": true
   },
   "outputs": [
    {
     "name": "stdout",
     "output_type": "stream",
     "text": [
      "Checking the Training on a Single Batch...\n",
      "Epoch  1, CIFAR-10 Batch 1:  [2.2839582, 0.1086]\n",
      "Epoch  2, CIFAR-10 Batch 1:  [2.1643205, 0.17739999]\n",
      "Epoch  3, CIFAR-10 Batch 1:  [2.0798821, 0.22739999]\n",
      "Epoch  4, CIFAR-10 Batch 1:  [1.9424845, 0.28420001]\n",
      "Epoch  5, CIFAR-10 Batch 1:  [1.9109296, 0.27079999]\n",
      "Epoch  6, CIFAR-10 Batch 1:  [1.8232317, 0.3082]\n",
      "Epoch  7, CIFAR-10 Batch 1:  [1.7522566, 0.33939999]\n",
      "Epoch  8, CIFAR-10 Batch 1:  [1.7335733, 0.34159997]\n",
      "Epoch  9, CIFAR-10 Batch 1:  [1.6752926, 0.35699999]\n",
      "Epoch 10, CIFAR-10 Batch 1:  [1.6425512, 0.37799999]\n",
      "Epoch 11, CIFAR-10 Batch 1:  [1.6584623, 0.3716]\n",
      "Epoch 12, CIFAR-10 Batch 1:  [1.5939192, 0.4012]\n",
      "Epoch 13, CIFAR-10 Batch 1:  [1.5941432, 0.39899999]\n",
      "Epoch 14, CIFAR-10 Batch 1:  [1.622237, 0.38699996]\n",
      "Epoch 15, CIFAR-10 Batch 1:  [1.5320108, 0.42939997]\n",
      "Epoch 16, CIFAR-10 Batch 1:  [1.5258601, 0.42719996]\n",
      "Epoch 17, CIFAR-10 Batch 1:  [1.4705359, 0.45139995]\n",
      "Epoch 18, CIFAR-10 Batch 1:  [1.4565117, 0.46179995]\n",
      "Epoch 19, CIFAR-10 Batch 1:  [1.4558377, 0.46419999]\n",
      "Epoch 20, CIFAR-10 Batch 1:  [1.4394445, 0.46819994]\n",
      "Epoch 21, CIFAR-10 Batch 1:  [1.4193044, 0.472]\n",
      "Epoch 22, CIFAR-10 Batch 1:  [1.4031104, 0.48579991]\n",
      "Epoch 23, CIFAR-10 Batch 1:  [1.4341321, 0.48039997]\n",
      "Epoch 24, CIFAR-10 Batch 1:  [1.422096, 0.47799999]\n",
      "Epoch 25, CIFAR-10 Batch 1:  [1.4134173, 0.48159993]\n",
      "Epoch 26, CIFAR-10 Batch 1:  [1.4067606, 0.48860002]\n",
      "Epoch 27, CIFAR-10 Batch 1:  [1.3496929, 0.50959998]\n",
      "Epoch 28, CIFAR-10 Batch 1:  [1.3318107, 0.51099992]\n",
      "Epoch 29, CIFAR-10 Batch 1:  [1.3586574, 0.50219995]\n",
      "Epoch 30, CIFAR-10 Batch 1:  [1.387435, 0.50519997]\n",
      "Epoch 31, CIFAR-10 Batch 1:  [1.3577813, 0.50339997]\n",
      "Epoch 32, CIFAR-10 Batch 1:  [1.3442503, 0.51839995]\n",
      "Epoch 33, CIFAR-10 Batch 1:  [1.3804361, 0.50939995]\n",
      "Epoch 34, CIFAR-10 Batch 1:  [1.3051525, 0.5223999]\n",
      "Epoch 35, CIFAR-10 Batch 1:  [1.3286755, 0.52259994]\n",
      "Epoch 36, CIFAR-10 Batch 1:  [1.3321369, 0.51699996]\n",
      "Epoch 37, CIFAR-10 Batch 1:  [1.4251221, 0.48739997]\n",
      "Epoch 38, CIFAR-10 Batch 1:  [1.3267815, 0.52819991]\n",
      "Epoch 39, CIFAR-10 Batch 1:  [1.3135363, 0.52639991]\n",
      "Epoch 40, CIFAR-10 Batch 1:  [1.3120664, 0.53079993]\n",
      "Epoch 41, CIFAR-10 Batch 1:  [1.3638754, 0.52839994]\n",
      "Epoch 42, CIFAR-10 Batch 1:  [1.3202854, 0.52979994]\n",
      "Epoch 43, CIFAR-10 Batch 1:  [1.3053207, 0.53679991]\n",
      "Epoch 44, CIFAR-10 Batch 1:  [1.2926753, 0.54359996]\n",
      "Epoch 45, CIFAR-10 Batch 1:  [1.3281499, 0.53539991]\n",
      "Epoch 46, CIFAR-10 Batch 1:  [1.3292402, 0.5395999]\n",
      "Epoch 47, CIFAR-10 Batch 1:  [1.3614585, 0.53139997]\n",
      "Epoch 48, CIFAR-10 Batch 1:  [1.3077952, 0.54000002]\n",
      "Epoch 49, CIFAR-10 Batch 1:  [1.2983456, 0.54779994]\n",
      "Epoch 50, CIFAR-10 Batch 1:  [1.3258754, 0.5471999]\n",
      "Epoch 51, CIFAR-10 Batch 1:  [1.3210689, 0.54799998]\n",
      "Epoch 52, CIFAR-10 Batch 1:  [1.2999806, 0.54679996]\n",
      "Epoch 53, CIFAR-10 Batch 1:  [1.3332484, 0.54779994]\n",
      "Epoch 54, CIFAR-10 Batch 1:  [1.3089292, 0.54699993]\n",
      "Epoch 55, CIFAR-10 Batch 1:  [1.3772173, 0.54459995]\n",
      "Epoch 56, CIFAR-10 Batch 1:  [1.3672609, 0.54179996]\n",
      "Epoch 57, CIFAR-10 Batch 1:  [1.3484503, 0.54899997]\n",
      "Epoch 58, CIFAR-10 Batch 1:  [1.3606095, 0.54919994]\n",
      "Epoch 59, CIFAR-10 Batch 1:  [1.324109, 0.55459994]\n",
      "Epoch 60, CIFAR-10 Batch 1:  [1.380771, 0.54439992]\n",
      "Epoch 61, CIFAR-10 Batch 1:  [1.3851295, 0.54279995]\n",
      "Epoch 62, CIFAR-10 Batch 1:  [1.3761675, 0.5471999]\n",
      "Epoch 63, CIFAR-10 Batch 1:  [1.347964, 0.55319995]\n",
      "Epoch 64, CIFAR-10 Batch 1:  [1.429515, 0.54679996]\n",
      "Epoch 65, CIFAR-10 Batch 1:  [1.3660367, 0.55439997]\n",
      "Epoch 66, CIFAR-10 Batch 1:  [1.3661809, 0.55619991]\n",
      "Epoch 67, CIFAR-10 Batch 1:  [1.4043597, 0.55779988]\n",
      "Epoch 68, CIFAR-10 Batch 1:  [1.4161825, 0.55419993]\n",
      "Epoch 69, CIFAR-10 Batch 1:  [1.4242028, 0.54859996]\n",
      "Epoch 70, CIFAR-10 Batch 1:  [1.4780675, 0.5399999]\n"
     ]
    }
   ],
   "source": [
    "\"\"\"\n",
    "DON'T MODIFY ANYTHING IN THIS CELL\n",
    "\"\"\"\n",
    "print('Checking the Training on a Single Batch...')\n",
    "with tf.Session() as sess:\n",
    "    # Initializing the variables\n",
    "    sess.run(tf.global_variables_initializer())\n",
    "    \n",
    "    # Training cycle\n",
    "    for epoch in range(epochs):\n",
    "        batch_i = 1\n",
    "        for batch_features, batch_labels in helper.load_preprocess_training_batch(batch_i, batch_size):\n",
    "            train_neural_network(sess, optimizer, keep_probability, batch_features, batch_labels)\n",
    "        print('Epoch {:>2}, CIFAR-10 Batch {}:  '.format(epoch + 1, batch_i), end='')\n",
    "        print_stats(sess, batch_features, batch_labels, cost, accuracy)"
   ]
  },
  {
   "cell_type": "markdown",
   "metadata": {
    "deletable": true,
    "editable": true
   },
   "source": [
    "### Fully Train the Model\n",
    "Now that you got a good accuracy with a single CIFAR-10 batch, try it with all five batches."
   ]
  },
  {
   "cell_type": "code",
   "execution_count": 607,
   "metadata": {
    "collapsed": false,
    "deletable": true,
    "editable": true,
    "scrolled": true
   },
   "outputs": [
    {
     "name": "stdout",
     "output_type": "stream",
     "text": [
      "Training...\n",
      "Epoch  1, CIFAR-10 Batch 1:  [2.2973645, 0.12679999]\n",
      "Epoch  1, CIFAR-10 Batch 2:  [2.2003808, 0.1698]\n",
      "Epoch  1, CIFAR-10 Batch 3:  [2.1475794, 0.18979999]\n",
      "Epoch  1, CIFAR-10 Batch 4:  [2.1236238, 0.18559998]\n",
      "Epoch  1, CIFAR-10 Batch 5:  [2.0234399, 0.23759998]\n",
      "Epoch  2, CIFAR-10 Batch 1:  [1.9457561, 0.25979999]\n",
      "Epoch  2, CIFAR-10 Batch 2:  [1.8811644, 0.26159999]\n",
      "Epoch  2, CIFAR-10 Batch 3:  [1.809983, 0.31200001]\n",
      "Epoch  2, CIFAR-10 Batch 4:  [1.7670777, 0.30859998]\n",
      "Epoch  2, CIFAR-10 Batch 5:  [1.7150387, 0.33519998]\n",
      "Epoch  3, CIFAR-10 Batch 1:  [1.7123176, 0.33039999]\n",
      "Epoch  3, CIFAR-10 Batch 2:  [1.656853, 0.3768]\n",
      "Epoch  3, CIFAR-10 Batch 3:  [1.7131016, 0.33759996]\n",
      "Epoch  3, CIFAR-10 Batch 4:  [1.6071845, 0.39539999]\n",
      "Epoch  3, CIFAR-10 Batch 5:  [1.6088132, 0.38319999]\n",
      "Epoch  4, CIFAR-10 Batch 1:  [1.543552, 0.42019999]\n",
      "Epoch  4, CIFAR-10 Batch 2:  [1.5451216, 0.41439998]\n",
      "Epoch  4, CIFAR-10 Batch 3:  [1.5639901, 0.41819999]\n",
      "Epoch  4, CIFAR-10 Batch 4:  [1.576862, 0.41619998]\n",
      "Epoch  4, CIFAR-10 Batch 5:  [1.522894, 0.43159994]\n",
      "Epoch  5, CIFAR-10 Batch 1:  [1.5039314, 0.43919998]\n",
      "Epoch  5, CIFAR-10 Batch 2:  [1.5351256, 0.4368]\n",
      "Epoch  5, CIFAR-10 Batch 3:  [1.5116066, 0.4418]\n",
      "Epoch  5, CIFAR-10 Batch 4:  [1.4618036, 0.46199998]\n",
      "Epoch  5, CIFAR-10 Batch 5:  [1.3989697, 0.47359997]\n",
      "Epoch  6, CIFAR-10 Batch 1:  [1.4130121, 0.47119996]\n",
      "Epoch  6, CIFAR-10 Batch 2:  [1.4546213, 0.47359997]\n",
      "Epoch  6, CIFAR-10 Batch 3:  [1.4069679, 0.47599995]\n",
      "Epoch  6, CIFAR-10 Batch 4:  [1.4284132, 0.47659999]\n",
      "Epoch  6, CIFAR-10 Batch 5:  [1.3563972, 0.50339997]\n",
      "Epoch  7, CIFAR-10 Batch 1:  [1.3178637, 0.52019995]\n",
      "Epoch  7, CIFAR-10 Batch 2:  [1.3632641, 0.50959992]\n",
      "Epoch  7, CIFAR-10 Batch 3:  [1.3407419, 0.50059992]\n",
      "Epoch  7, CIFAR-10 Batch 4:  [1.2884514, 0.53539991]\n",
      "Epoch  7, CIFAR-10 Batch 5:  [1.292848, 0.52359992]\n",
      "Epoch  8, CIFAR-10 Batch 1:  [1.3066676, 0.51959997]\n",
      "Epoch  8, CIFAR-10 Batch 2:  [1.3378328, 0.51659995]\n",
      "Epoch  8, CIFAR-10 Batch 3:  [1.2536526, 0.53799999]\n",
      "Epoch  8, CIFAR-10 Batch 4:  [1.2721169, 0.53999996]\n",
      "Epoch  8, CIFAR-10 Batch 5:  [1.2515756, 0.54259998]\n",
      "Epoch  9, CIFAR-10 Batch 1:  [1.2520045, 0.53899997]\n",
      "Epoch  9, CIFAR-10 Batch 2:  [1.2389797, 0.55079991]\n",
      "Epoch  9, CIFAR-10 Batch 3:  [1.2978414, 0.52079993]\n",
      "Epoch  9, CIFAR-10 Batch 4:  [1.2950273, 0.52459991]\n",
      "Epoch  9, CIFAR-10 Batch 5:  [1.2177082, 0.55439991]\n",
      "Epoch 10, CIFAR-10 Batch 1:  [1.1909958, 0.56239998]\n",
      "Epoch 10, CIFAR-10 Batch 2:  [1.199538, 0.56319994]\n",
      "Epoch 10, CIFAR-10 Batch 3:  [1.2003744, 0.56279993]\n",
      "Epoch 10, CIFAR-10 Batch 4:  [1.2118357, 0.56519991]\n",
      "Epoch 10, CIFAR-10 Batch 5:  [1.2556645, 0.54519993]\n",
      "Epoch 11, CIFAR-10 Batch 1:  [1.2093801, 0.5632]\n",
      "Epoch 11, CIFAR-10 Batch 2:  [1.2266742, 0.5539999]\n",
      "Epoch 11, CIFAR-10 Batch 3:  [1.2445148, 0.55079997]\n",
      "Epoch 11, CIFAR-10 Batch 4:  [1.2317388, 0.56239992]\n",
      "Epoch 11, CIFAR-10 Batch 5:  [1.2177801, 0.56079996]\n",
      "Epoch 12, CIFAR-10 Batch 1:  [1.1495616, 0.58719993]\n",
      "Epoch 12, CIFAR-10 Batch 2:  [1.1295542, 0.58899999]\n",
      "Epoch 12, CIFAR-10 Batch 3:  [1.2394023, 0.55999994]\n",
      "Epoch 12, CIFAR-10 Batch 4:  [1.1634398, 0.5873999]\n",
      "Epoch 12, CIFAR-10 Batch 5:  [1.1906068, 0.56979996]\n",
      "Epoch 13, CIFAR-10 Batch 1:  [1.1178606, 0.59539992]\n",
      "Epoch 13, CIFAR-10 Batch 2:  [1.1538165, 0.58739996]\n",
      "Epoch 13, CIFAR-10 Batch 3:  [1.1337529, 0.59539992]\n",
      "Epoch 13, CIFAR-10 Batch 4:  [1.121125, 0.60159993]\n",
      "Epoch 13, CIFAR-10 Batch 5:  [1.1605282, 0.58799994]\n",
      "Epoch 14, CIFAR-10 Batch 1:  [1.1036727, 0.60339987]\n",
      "Epoch 14, CIFAR-10 Batch 2:  [1.1107137, 0.5999999]\n",
      "Epoch 14, CIFAR-10 Batch 3:  [1.1255354, 0.59619993]\n",
      "Epoch 14, CIFAR-10 Batch 4:  [1.0935562, 0.60719997]\n",
      "Epoch 14, CIFAR-10 Batch 5:  [1.1118281, 0.6085999]\n",
      "Epoch 15, CIFAR-10 Batch 1:  [1.0790012, 0.61059994]\n",
      "Epoch 15, CIFAR-10 Batch 2:  [1.0823665, 0.61179984]\n",
      "Epoch 15, CIFAR-10 Batch 3:  [1.1101906, 0.60559994]\n",
      "Epoch 15, CIFAR-10 Batch 4:  [1.0601521, 0.62159991]\n",
      "Epoch 15, CIFAR-10 Batch 5:  [1.0964484, 0.61239988]\n",
      "Epoch 16, CIFAR-10 Batch 1:  [1.0621102, 0.6189999]\n",
      "Epoch 16, CIFAR-10 Batch 2:  [1.0739987, 0.62019992]\n",
      "Epoch 16, CIFAR-10 Batch 3:  [1.0976536, 0.61639988]\n",
      "Epoch 16, CIFAR-10 Batch 4:  [1.0436591, 0.6261999]\n",
      "Epoch 16, CIFAR-10 Batch 5:  [1.1050043, 0.60819989]\n",
      "Epoch 17, CIFAR-10 Batch 1:  [1.046648, 0.6261999]\n",
      "Epoch 17, CIFAR-10 Batch 2:  [1.0439117, 0.6225999]\n",
      "Epoch 17, CIFAR-10 Batch 3:  [1.1313334, 0.60179996]\n",
      "Epoch 17, CIFAR-10 Batch 4:  [1.0396485, 0.62819993]\n",
      "Epoch 17, CIFAR-10 Batch 5:  [1.0399662, 0.62959993]\n",
      "Epoch 18, CIFAR-10 Batch 1:  [1.0156875, 0.63719988]\n",
      "Epoch 18, CIFAR-10 Batch 2:  [1.0380584, 0.62999994]\n",
      "Epoch 18, CIFAR-10 Batch 3:  [1.0411295, 0.62879986]\n",
      "Epoch 18, CIFAR-10 Batch 4:  [1.0294952, 0.63399988]\n",
      "Epoch 18, CIFAR-10 Batch 5:  [1.0417917, 0.63179988]\n",
      "Epoch 19, CIFAR-10 Batch 1:  [1.0130073, 0.63779992]\n",
      "Epoch 19, CIFAR-10 Batch 2:  [1.0438654, 0.62959987]\n",
      "Epoch 19, CIFAR-10 Batch 3:  [1.0450776, 0.62859988]\n",
      "Epoch 19, CIFAR-10 Batch 4:  [1.0220438, 0.64039993]\n",
      "Epoch 19, CIFAR-10 Batch 5:  [1.0244585, 0.63859993]\n",
      "Epoch 20, CIFAR-10 Batch 1:  [1.0006307, 0.6455999]\n",
      "Epoch 20, CIFAR-10 Batch 2:  [1.0155343, 0.63859987]\n",
      "Epoch 20, CIFAR-10 Batch 3:  [1.0245614, 0.63859987]\n",
      "Epoch 20, CIFAR-10 Batch 4:  [1.0188079, 0.63679993]\n",
      "Epoch 20, CIFAR-10 Batch 5:  [1.0165207, 0.63899988]\n",
      "Epoch 21, CIFAR-10 Batch 1:  [1.0096881, 0.64199984]\n",
      "Epoch 21, CIFAR-10 Batch 2:  [1.0385289, 0.63399994]\n",
      "Epoch 21, CIFAR-10 Batch 3:  [1.0323212, 0.63319993]\n",
      "Epoch 21, CIFAR-10 Batch 4:  [1.0261871, 0.64319986]\n",
      "Epoch 21, CIFAR-10 Batch 5:  [1.0027721, 0.64379996]\n",
      "Epoch 22, CIFAR-10 Batch 1:  [0.99269861, 0.65179986]\n",
      "Epoch 22, CIFAR-10 Batch 2:  [1.0808576, 0.62159985]\n",
      "Epoch 22, CIFAR-10 Batch 3:  [1.0454297, 0.62879992]\n",
      "Epoch 22, CIFAR-10 Batch 4:  [0.98983061, 0.64679992]\n",
      "Epoch 22, CIFAR-10 Batch 5:  [1.0100663, 0.64819986]\n",
      "Epoch 23, CIFAR-10 Batch 1:  [0.99671483, 0.65399992]\n",
      "Epoch 23, CIFAR-10 Batch 2:  [1.0060933, 0.64599991]\n",
      "Epoch 23, CIFAR-10 Batch 3:  [1.0510247, 0.63879991]\n",
      "Epoch 23, CIFAR-10 Batch 4:  [0.96556103, 0.65799987]\n",
      "Epoch 23, CIFAR-10 Batch 5:  [0.99420488, 0.65159988]\n",
      "Epoch 24, CIFAR-10 Batch 1:  [0.98167014, 0.65939987]\n",
      "Epoch 24, CIFAR-10 Batch 2:  [1.0136102, 0.64339989]\n",
      "Epoch 24, CIFAR-10 Batch 3:  [1.0135109, 0.64079988]\n",
      "Epoch 24, CIFAR-10 Batch 4:  [0.98694289, 0.65379995]\n",
      "Epoch 24, CIFAR-10 Batch 5:  [0.9921422, 0.65639985]\n",
      "Epoch 25, CIFAR-10 Batch 1:  [0.98783135, 0.65799987]\n",
      "Epoch 25, CIFAR-10 Batch 2:  [0.97424072, 0.65659988]\n",
      "Epoch 25, CIFAR-10 Batch 3:  [1.040692, 0.63899988]\n",
      "Epoch 25, CIFAR-10 Batch 4:  [1.0021179, 0.65059984]\n",
      "Epoch 25, CIFAR-10 Batch 5:  [0.99299103, 0.6523999]\n",
      "Epoch 26, CIFAR-10 Batch 1:  [0.98122972, 0.65559989]\n",
      "Epoch 26, CIFAR-10 Batch 2:  [1.0088658, 0.64959991]\n",
      "Epoch 26, CIFAR-10 Batch 3:  [1.0205677, 0.64139986]\n",
      "Epoch 26, CIFAR-10 Batch 4:  [0.96978599, 0.66179991]\n",
      "Epoch 26, CIFAR-10 Batch 5:  [0.98103511, 0.65879989]\n",
      "Epoch 27, CIFAR-10 Batch 1:  [0.97274625, 0.65799987]\n",
      "Epoch 27, CIFAR-10 Batch 2:  [1.0032461, 0.65159994]\n",
      "Epoch 27, CIFAR-10 Batch 3:  [1.0039848, 0.65059996]\n",
      "Epoch 27, CIFAR-10 Batch 4:  [0.99133551, 0.65579993]\n",
      "Epoch 27, CIFAR-10 Batch 5:  [0.9856863, 0.6523999]\n",
      "Epoch 28, CIFAR-10 Batch 1:  [0.95977461, 0.66979992]\n",
      "Epoch 28, CIFAR-10 Batch 2:  [0.96278703, 0.6613999]\n",
      "Epoch 28, CIFAR-10 Batch 3:  [0.99601007, 0.65819985]\n",
      "Epoch 28, CIFAR-10 Batch 4:  [0.98062897, 0.66039991]\n",
      "Epoch 28, CIFAR-10 Batch 5:  [0.98900652, 0.65439987]\n",
      "Epoch 29, CIFAR-10 Batch 1:  [0.95489836, 0.66359991]\n",
      "Epoch 29, CIFAR-10 Batch 2:  [1.0012195, 0.6523999]\n",
      "Epoch 29, CIFAR-10 Batch 3:  [0.99420893, 0.6595999]\n",
      "Epoch 29, CIFAR-10 Batch 4:  [0.97443599, 0.66059983]\n",
      "Epoch 29, CIFAR-10 Batch 5:  [1.0044504, 0.6509999]\n",
      "Epoch 30, CIFAR-10 Batch 1:  [0.95007235, 0.6681999]\n",
      "Epoch 30, CIFAR-10 Batch 2:  [1.006098, 0.65679985]\n",
      "Epoch 30, CIFAR-10 Batch 3:  [0.99439412, 0.66099989]\n",
      "Epoch 30, CIFAR-10 Batch 4:  [0.95314991, 0.6681999]\n",
      "Epoch 30, CIFAR-10 Batch 5:  [0.98057079, 0.66119993]\n",
      "Epoch 31, CIFAR-10 Batch 1:  [0.95653546, 0.66899991]\n",
      "Epoch 31, CIFAR-10 Batch 2:  [0.9417454, 0.67559993]\n",
      "Epoch 31, CIFAR-10 Batch 3:  [0.97832632, 0.66399992]\n",
      "Epoch 31, CIFAR-10 Batch 4:  [0.96095324, 0.67279989]\n",
      "Epoch 31, CIFAR-10 Batch 5:  [0.99665231, 0.66359991]\n",
      "Epoch 32, CIFAR-10 Batch 1:  [0.94531298, 0.66959989]\n",
      "Epoch 32, CIFAR-10 Batch 2:  [0.99394703, 0.65979981]\n",
      "Epoch 32, CIFAR-10 Batch 3:  [0.99545318, 0.6631999]\n",
      "Epoch 32, CIFAR-10 Batch 4:  [0.99023229, 0.66299987]\n",
      "Epoch 32, CIFAR-10 Batch 5:  [0.95801914, 0.66419989]\n",
      "Epoch 33, CIFAR-10 Batch 1:  [0.95275772, 0.6703999]\n",
      "Epoch 33, CIFAR-10 Batch 2:  [0.96395689, 0.6699999]\n",
      "Epoch 33, CIFAR-10 Batch 3:  [0.98162639, 0.66659993]\n",
      "Epoch 33, CIFAR-10 Batch 4:  [0.99252939, 0.66259986]\n",
      "Epoch 33, CIFAR-10 Batch 5:  [0.99095607, 0.66899985]\n",
      "Epoch 34, CIFAR-10 Batch 1:  [0.98183596, 0.66219985]\n",
      "Epoch 34, CIFAR-10 Batch 2:  [0.9707213, 0.66779983]\n",
      "Epoch 34, CIFAR-10 Batch 3:  [0.98274648, 0.66839981]\n",
      "Epoch 34, CIFAR-10 Batch 4:  [0.9842512, 0.66179985]\n",
      "Epoch 34, CIFAR-10 Batch 5:  [1.0115622, 0.65619987]\n",
      "Epoch 35, CIFAR-10 Batch 1:  [0.96277142, 0.66959989]\n",
      "Epoch 35, CIFAR-10 Batch 2:  [0.96783519, 0.66639984]\n",
      "Epoch 35, CIFAR-10 Batch 3:  [0.9952246, 0.6595999]\n",
      "Epoch 35, CIFAR-10 Batch 4:  [0.95000839, 0.66899991]\n",
      "Epoch 35, CIFAR-10 Batch 5:  [0.97545058, 0.67019993]\n",
      "Epoch 36, CIFAR-10 Batch 1:  [0.96974939, 0.67299986]\n",
      "Epoch 36, CIFAR-10 Batch 2:  [0.93617743, 0.67619985]\n",
      "Epoch 36, CIFAR-10 Batch 3:  [0.96023875, 0.6721999]\n",
      "Epoch 36, CIFAR-10 Batch 4:  [0.93803012, 0.6807999]\n",
      "Epoch 36, CIFAR-10 Batch 5:  [1.0307366, 0.66239989]\n",
      "Epoch 37, CIFAR-10 Batch 1:  [0.95341718, 0.6717999]\n",
      "Epoch 37, CIFAR-10 Batch 2:  [0.96504253, 0.67139995]\n",
      "Epoch 37, CIFAR-10 Batch 3:  [0.95653522, 0.67579985]\n",
      "Epoch 37, CIFAR-10 Batch 4:  [0.95777524, 0.67339987]\n",
      "Epoch 37, CIFAR-10 Batch 5:  [1.0217924, 0.66079992]\n",
      "Epoch 38, CIFAR-10 Batch 1:  [0.98661405, 0.67019987]\n",
      "Epoch 38, CIFAR-10 Batch 2:  [1.015821, 0.65439981]\n",
      "Epoch 38, CIFAR-10 Batch 3:  [1.055789, 0.65679991]\n",
      "Epoch 38, CIFAR-10 Batch 4:  [0.94836199, 0.67919987]\n",
      "Epoch 38, CIFAR-10 Batch 5:  [0.97754502, 0.67099988]\n",
      "Epoch 39, CIFAR-10 Batch 1:  [0.96347749, 0.67579985]\n",
      "Epoch 39, CIFAR-10 Batch 2:  [0.9566257, 0.66759992]\n",
      "Epoch 39, CIFAR-10 Batch 3:  [0.97827804, 0.67019987]\n",
      "Epoch 39, CIFAR-10 Batch 4:  [0.95083851, 0.68159986]\n",
      "Epoch 39, CIFAR-10 Batch 5:  [0.95901191, 0.67079991]\n",
      "Epoch 40, CIFAR-10 Batch 1:  [0.99003816, 0.66639984]\n",
      "Epoch 40, CIFAR-10 Batch 2:  [0.94506806, 0.67959976]\n",
      "Epoch 40, CIFAR-10 Batch 3:  [1.0352089, 0.65979987]\n",
      "Epoch 40, CIFAR-10 Batch 4:  [0.93902099, 0.68059981]\n",
      "Epoch 40, CIFAR-10 Batch 5:  [0.95604801, 0.67819989]\n",
      "Epoch 41, CIFAR-10 Batch 1:  [1.0854647, 0.64439994]\n",
      "Epoch 41, CIFAR-10 Batch 2:  [0.99066019, 0.66399992]\n",
      "Epoch 41, CIFAR-10 Batch 3:  [0.94632578, 0.67479986]\n",
      "Epoch 41, CIFAR-10 Batch 4:  [0.95244998, 0.68439984]\n",
      "Epoch 41, CIFAR-10 Batch 5:  [0.94452167, 0.68419987]\n",
      "Epoch 42, CIFAR-10 Batch 1:  [0.98831403, 0.6721999]\n",
      "Epoch 42, CIFAR-10 Batch 2:  [0.93046528, 0.68639982]\n",
      "Epoch 42, CIFAR-10 Batch 3:  [0.98055953, 0.67439985]\n",
      "Epoch 42, CIFAR-10 Batch 4:  [0.95957685, 0.67639983]\n",
      "Epoch 42, CIFAR-10 Batch 5:  [0.94746304, 0.68459988]\n",
      "Epoch 43, CIFAR-10 Batch 1:  [1.0427902, 0.65979987]\n",
      "Epoch 43, CIFAR-10 Batch 2:  [0.95788103, 0.66959995]\n",
      "Epoch 43, CIFAR-10 Batch 3:  [0.97516388, 0.67439985]\n",
      "Epoch 43, CIFAR-10 Batch 4:  [0.96330923, 0.67559981]\n",
      "Epoch 43, CIFAR-10 Batch 5:  [0.93794209, 0.68719989]\n",
      "Epoch 44, CIFAR-10 Batch 1:  [1.0451335, 0.66059989]\n",
      "Epoch 44, CIFAR-10 Batch 2:  [0.95256293, 0.67739987]\n",
      "Epoch 44, CIFAR-10 Batch 3:  [0.96143454, 0.67419988]\n",
      "Epoch 44, CIFAR-10 Batch 4:  [0.94727933, 0.67779988]\n",
      "Epoch 44, CIFAR-10 Batch 5:  [0.97833627, 0.67819989]\n",
      "Epoch 45, CIFAR-10 Batch 1:  [1.0205823, 0.66359985]\n",
      "Epoch 45, CIFAR-10 Batch 2:  [0.97267652, 0.67859989]\n",
      "Epoch 45, CIFAR-10 Batch 3:  [0.96421748, 0.67499989]\n",
      "Epoch 45, CIFAR-10 Batch 4:  [0.93775451, 0.68359989]\n",
      "Epoch 45, CIFAR-10 Batch 5:  [0.98269999, 0.67339993]\n",
      "Epoch 46, CIFAR-10 Batch 1:  [0.96255702, 0.68379986]\n",
      "Epoch 46, CIFAR-10 Batch 2:  [0.94364381, 0.68299997]\n",
      "Epoch 46, CIFAR-10 Batch 3:  [0.96394289, 0.67979991]\n",
      "Epoch 46, CIFAR-10 Batch 4:  [0.94150853, 0.68539989]\n",
      "Epoch 46, CIFAR-10 Batch 5:  [0.95624459, 0.68659985]\n",
      "Epoch 47, CIFAR-10 Batch 1:  [0.97694689, 0.67519993]\n",
      "Epoch 47, CIFAR-10 Batch 2:  [0.95205396, 0.67739987]\n",
      "Epoch 47, CIFAR-10 Batch 3:  [0.9539445, 0.6789999]\n",
      "Epoch 47, CIFAR-10 Batch 4:  [0.94181985, 0.68139988]\n",
      "Epoch 47, CIFAR-10 Batch 5:  [0.95515907, 0.68599987]\n",
      "Epoch 48, CIFAR-10 Batch 1:  [1.016326, 0.67059982]\n",
      "Epoch 48, CIFAR-10 Batch 2:  [0.95223892, 0.68159992]\n",
      "Epoch 48, CIFAR-10 Batch 3:  [0.97939581, 0.6771999]\n",
      "Epoch 48, CIFAR-10 Batch 4:  [0.9780367, 0.68119991]\n",
      "Epoch 48, CIFAR-10 Batch 5:  [0.94820541, 0.68539983]\n",
      "Epoch 49, CIFAR-10 Batch 1:  [1.0239457, 0.66579986]\n",
      "Epoch 49, CIFAR-10 Batch 2:  [0.97218901, 0.68099988]\n",
      "Epoch 49, CIFAR-10 Batch 3:  [0.97577059, 0.67999995]\n",
      "Epoch 49, CIFAR-10 Batch 4:  [1.0026044, 0.67419988]\n",
      "Epoch 49, CIFAR-10 Batch 5:  [0.95750022, 0.68159986]\n",
      "Epoch 50, CIFAR-10 Batch 1:  [0.97891158, 0.67299986]\n",
      "Epoch 50, CIFAR-10 Batch 2:  [0.99182308, 0.66739994]\n",
      "Epoch 50, CIFAR-10 Batch 3:  [0.94564337, 0.68039984]\n",
      "Epoch 50, CIFAR-10 Batch 4:  [0.97812629, 0.68059993]\n",
      "Epoch 50, CIFAR-10 Batch 5:  [0.96020794, 0.68119997]\n",
      "Epoch 51, CIFAR-10 Batch 1:  [0.96870828, 0.68319988]\n",
      "Epoch 51, CIFAR-10 Batch 2:  [0.97787333, 0.67779994]\n",
      "Epoch 51, CIFAR-10 Batch 3:  [0.97633505, 0.6717999]\n",
      "Epoch 51, CIFAR-10 Batch 4:  [0.93880498, 0.68099988]\n",
      "Epoch 51, CIFAR-10 Batch 5:  [0.92824775, 0.69519991]\n",
      "Epoch 52, CIFAR-10 Batch 1:  [0.97958785, 0.68699992]\n",
      "Epoch 52, CIFAR-10 Batch 2:  [0.97502953, 0.68179989]\n",
      "Epoch 52, CIFAR-10 Batch 3:  [0.99618286, 0.67719984]\n",
      "Epoch 52, CIFAR-10 Batch 4:  [0.9734962, 0.68319982]\n",
      "Epoch 52, CIFAR-10 Batch 5:  [0.98217934, 0.67479992]\n",
      "Epoch 53, CIFAR-10 Batch 1:  [1.0035874, 0.67599994]\n",
      "Epoch 53, CIFAR-10 Batch 2:  [0.98438191, 0.67459989]\n",
      "Epoch 53, CIFAR-10 Batch 3:  [0.93590868, 0.68279988]\n",
      "Epoch 53, CIFAR-10 Batch 4:  [0.96542019, 0.68299985]\n",
      "Epoch 53, CIFAR-10 Batch 5:  [0.96505308, 0.67959982]\n",
      "Epoch 54, CIFAR-10 Batch 1:  [0.96486443, 0.68439984]\n",
      "Epoch 54, CIFAR-10 Batch 2:  [0.99782801, 0.67319995]\n",
      "Epoch 54, CIFAR-10 Batch 3:  [0.94860309, 0.68439984]\n",
      "Epoch 54, CIFAR-10 Batch 4:  [0.95646316, 0.68299985]\n",
      "Epoch 54, CIFAR-10 Batch 5:  [0.93252701, 0.6879999]\n",
      "Epoch 55, CIFAR-10 Batch 1:  [0.9826321, 0.67319989]\n",
      "Epoch 55, CIFAR-10 Batch 2:  [1.0382131, 0.65939987]\n",
      "Epoch 55, CIFAR-10 Batch 3:  [0.97604674, 0.67399991]\n",
      "Epoch 55, CIFAR-10 Batch 4:  [0.98764163, 0.68179983]\n",
      "Epoch 55, CIFAR-10 Batch 5:  [0.97714067, 0.67839986]\n",
      "Epoch 56, CIFAR-10 Batch 1:  [0.99458277, 0.67279983]\n",
      "Epoch 56, CIFAR-10 Batch 2:  [0.97218311, 0.67619991]\n",
      "Epoch 56, CIFAR-10 Batch 3:  [0.96139944, 0.68119991]\n",
      "Epoch 56, CIFAR-10 Batch 4:  [0.9792732, 0.67779994]\n",
      "Epoch 56, CIFAR-10 Batch 5:  [1.0116392, 0.67099988]\n",
      "Epoch 57, CIFAR-10 Batch 1:  [0.99252945, 0.6771999]\n",
      "Epoch 57, CIFAR-10 Batch 2:  [0.94824737, 0.68919992]\n",
      "Epoch 57, CIFAR-10 Batch 3:  [0.96124393, 0.68479991]\n",
      "Epoch 57, CIFAR-10 Batch 4:  [0.97888196, 0.68399984]\n",
      "Epoch 57, CIFAR-10 Batch 5:  [0.9545477, 0.6897999]\n",
      "Epoch 58, CIFAR-10 Batch 1:  [0.94997603, 0.68879986]\n",
      "Epoch 58, CIFAR-10 Batch 2:  [0.9859041, 0.68159992]\n",
      "Epoch 58, CIFAR-10 Batch 3:  [0.95162851, 0.68699992]\n",
      "Epoch 58, CIFAR-10 Batch 4:  [0.95693493, 0.6905998]\n",
      "Epoch 58, CIFAR-10 Batch 5:  [0.95001942, 0.6897999]\n",
      "Epoch 59, CIFAR-10 Batch 1:  [1.0013273, 0.6807999]\n",
      "Epoch 59, CIFAR-10 Batch 2:  [1.0004244, 0.67399979]\n",
      "Epoch 59, CIFAR-10 Batch 3:  [0.97859061, 0.67639989]\n",
      "Epoch 59, CIFAR-10 Batch 4:  [0.95767772, 0.68779993]\n",
      "Epoch 59, CIFAR-10 Batch 5:  [0.95318073, 0.68679994]\n",
      "Epoch 60, CIFAR-10 Batch 1:  [0.98263699, 0.6815998]\n",
      "Epoch 60, CIFAR-10 Batch 2:  [0.98127085, 0.68219995]\n",
      "Epoch 60, CIFAR-10 Batch 3:  [0.98055536, 0.6801998]\n",
      "Epoch 60, CIFAR-10 Batch 4:  [0.98110038, 0.68539989]\n",
      "Epoch 60, CIFAR-10 Batch 5:  [0.98330122, 0.67779982]\n",
      "Epoch 61, CIFAR-10 Batch 1:  [0.96639729, 0.69039983]\n",
      "Epoch 61, CIFAR-10 Batch 2:  [0.97704852, 0.68939984]\n",
      "Epoch 61, CIFAR-10 Batch 3:  [0.93949801, 0.69299984]\n",
      "Epoch 61, CIFAR-10 Batch 4:  [0.98561156, 0.68819988]\n",
      "Epoch 61, CIFAR-10 Batch 5:  [0.99611378, 0.68139988]\n",
      "Epoch 62, CIFAR-10 Batch 1:  [0.95845813, 0.69559991]\n",
      "Epoch 62, CIFAR-10 Batch 2:  [0.96970451, 0.68459988]\n",
      "Epoch 62, CIFAR-10 Batch 3:  [0.98243177, 0.68919986]\n",
      "Epoch 62, CIFAR-10 Batch 4:  [0.94245553, 0.68979985]\n",
      "Epoch 62, CIFAR-10 Batch 5:  [0.98187554, 0.68339986]\n",
      "Epoch 63, CIFAR-10 Batch 1:  [0.95599121, 0.69419986]\n",
      "Epoch 63, CIFAR-10 Batch 2:  [1.0360397, 0.67839992]\n",
      "Epoch 63, CIFAR-10 Batch 3:  [0.98059177, 0.68599987]\n",
      "Epoch 63, CIFAR-10 Batch 4:  [0.9468981, 0.69339985]\n",
      "Epoch 63, CIFAR-10 Batch 5:  [0.96473199, 0.69079989]\n",
      "Epoch 64, CIFAR-10 Batch 1:  [0.94792831, 0.69639987]\n",
      "Epoch 64, CIFAR-10 Batch 2:  [0.97786093, 0.6893999]\n",
      "Epoch 64, CIFAR-10 Batch 3:  [0.95254201, 0.68899989]\n",
      "Epoch 64, CIFAR-10 Batch 4:  [0.96933872, 0.68899983]\n",
      "Epoch 64, CIFAR-10 Batch 5:  [1.0032965, 0.6789999]\n",
      "Epoch 65, CIFAR-10 Batch 1:  [0.93424684, 0.70199984]\n",
      "Epoch 65, CIFAR-10 Batch 2:  [0.97449934, 0.6923998]\n",
      "Epoch 65, CIFAR-10 Batch 3:  [0.96806705, 0.68659985]\n",
      "Epoch 65, CIFAR-10 Batch 4:  [0.97982717, 0.68419987]\n",
      "Epoch 65, CIFAR-10 Batch 5:  [0.99567223, 0.6771999]\n",
      "Epoch 66, CIFAR-10 Batch 1:  [0.94299495, 0.69319981]\n",
      "Epoch 66, CIFAR-10 Batch 2:  [1.0051327, 0.68299991]\n",
      "Epoch 66, CIFAR-10 Batch 3:  [0.98270178, 0.68679982]\n",
      "Epoch 66, CIFAR-10 Batch 4:  [0.96657765, 0.68939984]\n",
      "Epoch 66, CIFAR-10 Batch 5:  [0.99655563, 0.67919993]\n",
      "Epoch 67, CIFAR-10 Batch 1:  [0.96337342, 0.68899983]\n",
      "Epoch 67, CIFAR-10 Batch 2:  [0.93857861, 0.69739985]\n",
      "Epoch 67, CIFAR-10 Batch 3:  [0.98456824, 0.68819988]\n",
      "Epoch 67, CIFAR-10 Batch 4:  [1.0526479, 0.67059994]\n",
      "Epoch 67, CIFAR-10 Batch 5:  [0.97677004, 0.68479985]\n",
      "Epoch 68, CIFAR-10 Batch 1:  [0.96891046, 0.68939984]\n",
      "Epoch 68, CIFAR-10 Batch 2:  [0.95347601, 0.69179988]\n",
      "Epoch 68, CIFAR-10 Batch 3:  [0.98869348, 0.69259989]\n",
      "Epoch 68, CIFAR-10 Batch 4:  [1.0231092, 0.66979992]\n",
      "Epoch 68, CIFAR-10 Batch 5:  [0.96589589, 0.68599987]\n",
      "Epoch 69, CIFAR-10 Batch 1:  [0.97561425, 0.68699992]\n",
      "Epoch 69, CIFAR-10 Batch 2:  [1.040954, 0.67859983]\n",
      "Epoch 69, CIFAR-10 Batch 3:  [0.96695071, 0.68799984]\n",
      "Epoch 69, CIFAR-10 Batch 4:  [1.0022095, 0.68959993]\n",
      "Epoch 69, CIFAR-10 Batch 5:  [0.96470094, 0.68799984]\n",
      "Epoch 70, CIFAR-10 Batch 1:  [1.0091811, 0.68819988]\n",
      "Epoch 70, CIFAR-10 Batch 2:  [0.95339251, 0.69339979]\n",
      "Epoch 70, CIFAR-10 Batch 3:  [1.008657, 0.68779987]\n",
      "Epoch 70, CIFAR-10 Batch 4:  [1.0130864, 0.68419993]\n",
      "Epoch 70, CIFAR-10 Batch 5:  [0.95337248, 0.69219983]\n"
     ]
    }
   ],
   "source": [
    "\"\"\"\n",
    "DON'T MODIFY ANYTHING IN THIS CELL\n",
    "\"\"\"\n",
    "save_model_path = './image_classification'\n",
    "\n",
    "print('Training...')\n",
    "with tf.Session() as sess:\n",
    "    # Initializing the variables\n",
    "    sess.run(tf.global_variables_initializer())\n",
    "    \n",
    "    # Training cycle\n",
    "    for epoch in range(epochs):\n",
    "        # Loop over all batches\n",
    "        n_batches = 5\n",
    "        for batch_i in range(1, n_batches + 1):\n",
    "            for batch_features, batch_labels in helper.load_preprocess_training_batch(batch_i, batch_size):\n",
    "                train_neural_network(sess, optimizer, keep_probability, batch_features, batch_labels)\n",
    "            print('Epoch {:>2}, CIFAR-10 Batch {}:  '.format(epoch + 1, batch_i), end='')\n",
    "            print_stats(sess, batch_features, batch_labels, cost, accuracy)\n",
    "            \n",
    "    # Save Model\n",
    "    saver = tf.train.Saver()\n",
    "    save_path = saver.save(sess, save_model_path)"
   ]
  },
  {
   "cell_type": "markdown",
   "metadata": {
    "deletable": true,
    "editable": true
   },
   "source": [
    "# Checkpoint\n",
    "The model has been saved to disk.\n",
    "## Test Model\n",
    "Test your model against the test dataset.  This will be your final accuracy. You should have an accuracy greater than 50%. If you don't, keep tweaking the model architecture and parameters."
   ]
  },
  {
   "cell_type": "code",
   "execution_count": 608,
   "metadata": {
    "collapsed": false,
    "deletable": true,
    "editable": true
   },
   "outputs": [
    {
     "name": "stdout",
     "output_type": "stream",
     "text": [
      "Testing Accuracy: 0.6910754144191742\n",
      "\n"
     ]
    },
    {
     "data": {
      "image/png": "[encoded data removed]",
      "text/plain": [
       "<matplotlib.figure.Figure at 0x7fefaad5def0>"
      ]
     },
     "metadata": {
      "image/png": {
       "height": 319,
       "width": 355
      }
     },
     "output_type": "display_data"
    }
   ],
   "source": [
    "\"\"\"\n",
    "DON'T MODIFY ANYTHING IN THIS CELL\n",
    "\"\"\"\n",
    "%matplotlib inline\n",
    "%config InlineBackend.figure_format = 'retina'\n",
    "\n",
    "import tensorflow as tf\n",
    "import pickle\n",
    "import helper\n",
    "import random\n",
    "\n",
    "# Set batch size if not already set\n",
    "try:\n",
    "    if batch_size:\n",
    "        pass\n",
    "except NameError:\n",
    "    batch_size = 64\n",
    "\n",
    "save_model_path = './image_classification'\n",
    "n_samples = 4\n",
    "top_n_predictions = 3\n",
    "\n",
    "def test_model():\n",
    "    \"\"\"\n",
    "    Test the saved model against the test dataset\n",
    "    \"\"\"\n",
    "\n",
    "    test_features, test_labels = pickle.load(open('preprocess_training.p', mode='rb'))\n",
    "    loaded_graph = tf.Graph()\n",
    "\n",
    "    with tf.Session(graph=loaded_graph) as sess:\n",
    "        # Load model\n",
    "        loader = tf.train.import_meta_graph(save_model_path + '.meta')\n",
    "        loader.restore(sess, save_model_path)\n",
    "\n",
    "        # Get Tensors from loaded model\n",
    "        loaded_x = loaded_graph.get_tensor_by_name('x:0')\n",
    "        loaded_y = loaded_graph.get_tensor_by_name('y:0')\n",
    "        loaded_keep_prob = loaded_graph.get_tensor_by_name('keep_prob:0')\n",
    "        loaded_logits = loaded_graph.get_tensor_by_name('logits:0')\n",
    "        loaded_acc = loaded_graph.get_tensor_by_name('accuracy:0')\n",
    "        \n",
    "        # Get accuracy in batches for memory limitations\n",
    "        test_batch_acc_total = 0\n",
    "        test_batch_count = 0\n",
    "        \n",
    "        for train_feature_batch, train_label_batch in helper.batch_features_labels(test_features, test_labels, batch_size):\n",
    "            test_batch_acc_total += sess.run(\n",
    "                loaded_acc,\n",
    "                feed_dict={loaded_x: train_feature_batch, loaded_y: train_label_batch, loaded_keep_prob: 1.0})\n",
    "            test_batch_count += 1\n",
    "\n",
    "        print('Testing Accuracy: {}\\n'.format(test_batch_acc_total/test_batch_count))\n",
    "\n",
    "        # Print Random Samples\n",
    "        random_test_features, random_test_labels = tuple(zip(*random.sample(list(zip(test_features, test_labels)), n_samples)))\n",
    "        random_test_predictions = sess.run(\n",
    "            tf.nn.top_k(tf.nn.softmax(loaded_logits), top_n_predictions),\n",
    "            feed_dict={loaded_x: random_test_features, loaded_y: random_test_labels, loaded_keep_prob: 1.0})\n",
    "        helper.display_image_predictions(random_test_features, random_test_labels, random_test_predictions)\n",
    "\n",
    "\n",
    "test_model()"
   ]
  },
  {
   "cell_type": "markdown",
   "metadata": {
    "deletable": true,
    "editable": true
   },
   "source": [
    "## Why 50-70% Accuracy?\n",
    "You might be wondering why you can't get an accuracy any higher. First things first, 50% isn't bad for a simple CNN.  Pure guessing would get you 10% accuracy. However, you might notice people are getting scores [well above 70%](http://rodrigob.github.io/are_we_there_yet/build/classification_datasets_results.html#43494641522d3130).  That's because we haven't taught you all there is to know about neural networks. We still need to cover a few more techniques.\n",
    "## Submitting This Project\n",
    "When submitting this project, make sure to run all the cells before saving the notebook.  Save the notebook file as \"dlnd_image_classification.ipynb\" and save it as a HTML file under \"File\" -> \"Download as\".  Include the \"helper.py\" and \"problem_unittests.py\" files in your submission."
   ]
  }
 ],
 "metadata": {
  "kernelspec": {
   "display_name": "Python 3",
   "language": "python",
   "name": "python3"
  },
  "language_info": {
   "codemirror_mode": {
    "name": "ipython",
    "version": 3
   },
   "file_extension": ".py",
   "mimetype": "text/x-python",
   "name": "python",
   "nbconvert_exporter": "python",
   "pygments_lexer": "ipython3",
   "version": "3.5.2"
  },
  "widgets": {
   "state": {},
   "version": "1.1.2"
  }
 },
 "nbformat": 4,
 "nbformat_minor": 0
}
